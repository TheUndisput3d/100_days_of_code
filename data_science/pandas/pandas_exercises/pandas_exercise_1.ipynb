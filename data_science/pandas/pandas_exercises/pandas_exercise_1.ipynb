{
  "cells": [
    {
      "cell_type": "code",
      "execution_count": 2,
      "metadata": {
        "colab": {
          "base_uri": "https://localhost:8080/"
        },
        "id": "kPZJxZylXvgy",
        "outputId": "58e745bf-e6ed-40ab-994e-e65b0549be77"
      },
      "outputs": [
        {
          "name": "stdout",
          "output_type": "stream",
          "text": [
            "   ID   Name  Age  Score\n",
            "0   1   John   28     85\n",
            "1   2  Alice   24     90\n",
            "2   3    Bob   35     78\n",
            "3   4    Eve   42     88\n"
          ]
        }
      ],
      "source": [
        "import pandas as pd\n",
        "\n",
        "# Creating a sample DataFrame\n",
        "data = {\n",
        "    \"ID\": [1, 2, 3, 4],\n",
        "    \"Name\": [\"John\", \"Alice\", \"Bob\", \"Eve\"],\n",
        "    \"Age\": [28, 24, 35, 42],\n",
        "    \"Score\": [85, 90, 78, 88],\n",
        "}\n",
        "\n",
        "df = pd.DataFrame(data)\n",
        "\n",
        "print(df)\n"
      ]
    },
    {
      "cell_type": "code",
      "execution_count": 3,
      "metadata": {
        "colab": {
          "base_uri": "https://localhost:8080/"
        },
        "id": "IxqINMwSYNGZ",
        "outputId": "a402092e-1da3-4a22-d5cb-ea15ff47d1f5"
      },
      "outputs": [
        {
          "data": {
            "text/plain": [
              "[('ID',\n",
              "  0    1\n",
              "  1    2\n",
              "  2    3\n",
              "  3    4\n",
              "  Name: ID, dtype: int64),\n",
              " ('Name',\n",
              "  0     John\n",
              "  1    Alice\n",
              "  2      Bob\n",
              "  3      Eve\n",
              "  Name: Name, dtype: object),\n",
              " ('Age',\n",
              "  0    28\n",
              "  1    24\n",
              "  2    35\n",
              "  3    42\n",
              "  Name: Age, dtype: int64),\n",
              " ('Score',\n",
              "  0    85\n",
              "  1    90\n",
              "  2    78\n",
              "  3    88\n",
              "  Name: Score, dtype: int64)]"
            ]
          },
          "execution_count": 3,
          "metadata": {},
          "output_type": "execute_result"
        }
      ],
      "source": [
        "list(df.items())"
      ]
    },
    {
      "cell_type": "code",
      "execution_count": 4,
      "metadata": {
        "colab": {
          "base_uri": "https://localhost:8080/"
        },
        "id": "t40FXnHJYOch",
        "outputId": "7027c25a-83b5-4f5c-d2b6-e9606e32253e"
      },
      "outputs": [
        {
          "name": "stdout",
          "output_type": "stream",
          "text": [
            "ID, 1\n",
            "Name, John\n",
            "Age, 28\n",
            "Score, 85\n"
          ]
        }
      ],
      "source": [
        "for key, value in df.items():\n",
        "  print(f\"{key}, {value[0]}\")"
      ]
    },
    {
      "cell_type": "code",
      "execution_count": 5,
      "metadata": {
        "colab": {
          "base_uri": "https://localhost:8080/"
        },
        "id": "tKaeOb0TYX3S",
        "outputId": "92eec1ac-528d-4dcc-b9da-8f0e41213cc7"
      },
      "outputs": [
        {
          "name": "stdout",
          "output_type": "stream",
          "text": [
            "0 ID          1\n",
            "Name     John\n",
            "Age        28\n",
            "Score      85\n",
            "Name: 0, dtype: object\n",
            "1 ID           2\n",
            "Name     Alice\n",
            "Age         24\n",
            "Score       90\n",
            "Name: 1, dtype: object\n",
            "2 ID         3\n",
            "Name     Bob\n",
            "Age       35\n",
            "Score     78\n",
            "Name: 2, dtype: object\n",
            "3 ID         4\n",
            "Name     Eve\n",
            "Age       42\n",
            "Score     88\n",
            "Name: 3, dtype: object\n"
          ]
        }
      ],
      "source": [
        "for key, val in df.iterrows():\n",
        "  print(key, val)"
      ]
    },
    {
      "cell_type": "code",
      "execution_count": 6,
      "metadata": {
        "colab": {
          "base_uri": "https://localhost:8080/"
        },
        "id": "_BzmeSxcY26l",
        "outputId": "80244eee-f85b-4ce2-c3c6-82b0f4fdfc86"
      },
      "outputs": [
        {
          "data": {
            "text/plain": [
              "<map at 0x2c09d52af80>"
            ]
          },
          "execution_count": 6,
          "metadata": {},
          "output_type": "execute_result"
        }
      ],
      "source": [
        "df.itertuples()"
      ]
    },
    {
      "cell_type": "code",
      "execution_count": 7,
      "metadata": {
        "colab": {
          "base_uri": "https://localhost:8080/"
        },
        "id": "rdKGRA_4dio3",
        "outputId": "2b052714-ec94-44b5-f0e0-0ff5ab7c8ede"
      },
      "outputs": [
        {
          "data": {
            "text/plain": [
              "Pandas(Index=0, ID=1, Name='John', Age=28, Score=85)"
            ]
          },
          "execution_count": 7,
          "metadata": {},
          "output_type": "execute_result"
        }
      ],
      "source": [
        "list(df.itertuples())[0]"
      ]
    },
    {
      "cell_type": "code",
      "execution_count": 8,
      "metadata": {
        "colab": {
          "base_uri": "https://localhost:8080/"
        },
        "id": "-6Z0QYYzdlFX",
        "outputId": "d59cafcc-6473-479b-e04a-711a96c854c7"
      },
      "outputs": [
        {
          "name": "stdout",
          "output_type": "stream",
          "text": [
            "ID 1\n",
            "Name John\n",
            "Age 28\n",
            "Score 85\n"
          ]
        }
      ],
      "source": [
        "for key, val in df.items():\n",
        "  print(key, val[0])"
      ]
    },
    {
      "cell_type": "code",
      "execution_count": 9,
      "metadata": {
        "colab": {
          "base_uri": "https://localhost:8080/"
        },
        "id": "xtkO7EDdeEly",
        "outputId": "56a1d873-e5af-47f7-830e-14140bc6d3b7"
      },
      "outputs": [
        {
          "name": "stdout",
          "output_type": "stream",
          "text": [
            "0 ID          1\n",
            "Name     John\n",
            "Age        28\n",
            "Score      85\n",
            "Name: 0, dtype: object\n",
            "1 ID           2\n",
            "Name     Alice\n",
            "Age         24\n",
            "Score       90\n",
            "Name: 1, dtype: object\n",
            "2 ID         3\n",
            "Name     Bob\n",
            "Age       35\n",
            "Score     78\n",
            "Name: 2, dtype: object\n",
            "3 ID         4\n",
            "Name     Eve\n",
            "Age       42\n",
            "Score     88\n",
            "Name: 3, dtype: object\n"
          ]
        }
      ],
      "source": [
        "for key, val in df.iterrows():\n",
        "  print(key, val)"
      ]
    },
    {
      "cell_type": "code",
      "execution_count": 10,
      "metadata": {
        "colab": {
          "base_uri": "https://localhost:8080/"
        },
        "id": "iea6gsNYeLSS",
        "outputId": "7a1bf0fb-fc80-4d8d-9084-4ae449fd3b99"
      },
      "outputs": [
        {
          "data": {
            "text/plain": [
              "[(0,\n",
              "  ID          1\n",
              "  Name     John\n",
              "  Age        28\n",
              "  Score      85\n",
              "  Name: 0, dtype: object),\n",
              " (1,\n",
              "  ID           2\n",
              "  Name     Alice\n",
              "  Age         24\n",
              "  Score       90\n",
              "  Name: 1, dtype: object),\n",
              " (2,\n",
              "  ID         3\n",
              "  Name     Bob\n",
              "  Age       35\n",
              "  Score     78\n",
              "  Name: 2, dtype: object),\n",
              " (3,\n",
              "  ID         4\n",
              "  Name     Eve\n",
              "  Age       42\n",
              "  Score     88\n",
              "  Name: 3, dtype: object)]"
            ]
          },
          "execution_count": 10,
          "metadata": {},
          "output_type": "execute_result"
        }
      ],
      "source": [
        "list(df.iterrows())"
      ]
    },
    {
      "cell_type": "code",
      "execution_count": 11,
      "metadata": {
        "id": "IwOGexQyeNJa"
      },
      "outputs": [],
      "source": [
        "ser = pd.Series(data=[1, 3, 54, 7], index=list('abcd'))"
      ]
    },
    {
      "cell_type": "code",
      "execution_count": 12,
      "metadata": {
        "colab": {
          "base_uri": "https://localhost:8080/"
        },
        "id": "1l2-W4uieoxm",
        "outputId": "e226ceaa-7123-461f-b2b8-7976827e6a3a"
      },
      "outputs": [
        {
          "name": "stderr",
          "output_type": "stream",
          "text": [
            "C:\\Users\\Aayush\\AppData\\Local\\Temp\\ipykernel_1872\\2519058933.py:1: FutureWarning: Series.__getitem__ treating keys as positions is deprecated. In a future version, integer keys will always be treated as labels (consistent with DataFrame behavior). To access a value by position, use `ser.iloc[pos]`\n",
            "  ser[0]\n"
          ]
        },
        {
          "data": {
            "text/plain": [
              "1"
            ]
          },
          "execution_count": 12,
          "metadata": {},
          "output_type": "execute_result"
        }
      ],
      "source": [
        "ser[0]"
      ]
    },
    {
      "cell_type": "code",
      "execution_count": 13,
      "metadata": {
        "colab": {
          "base_uri": "https://localhost:8080/",
          "height": 209
        },
        "id": "lvHx3AaGepwu",
        "outputId": "6632d72b-1321-4750-9bb5-496cc4e7bea3"
      },
      "outputs": [
        {
          "data": {
            "text/plain": [
              "a     1\n",
              "b     3\n",
              "c    54\n",
              "d     7\n",
              "dtype: int64"
            ]
          },
          "execution_count": 13,
          "metadata": {},
          "output_type": "execute_result"
        }
      ],
      "source": [
        "ser"
      ]
    },
    {
      "cell_type": "code",
      "execution_count": 14,
      "metadata": {
        "colab": {
          "base_uri": "https://localhost:8080/"
        },
        "id": "HXCOQYxOeswt",
        "outputId": "bf6dc085-c71a-4f7c-dd6e-2ebf810930f2"
      },
      "outputs": [
        {
          "data": {
            "text/plain": [
              "1"
            ]
          },
          "execution_count": 14,
          "metadata": {},
          "output_type": "execute_result"
        }
      ],
      "source": [
        "ser['a']"
      ]
    },
    {
      "cell_type": "code",
      "execution_count": 15,
      "metadata": {
        "colab": {
          "base_uri": "https://localhost:8080/"
        },
        "id": "QK5mBk6setpN",
        "outputId": "bd818016-a93f-411c-edf4-1a97efc77329"
      },
      "outputs": [
        {
          "name": "stderr",
          "output_type": "stream",
          "text": [
            "C:\\Users\\Aayush\\AppData\\Local\\Temp\\ipykernel_1872\\939278866.py:1: FutureWarning: Series.__getitem__ treating keys as positions is deprecated. In a future version, integer keys will always be treated as labels (consistent with DataFrame behavior). To access a value by position, use `ser.iloc[pos]`\n",
            "  ser[3]\n"
          ]
        },
        {
          "data": {
            "text/plain": [
              "7"
            ]
          },
          "execution_count": 15,
          "metadata": {},
          "output_type": "execute_result"
        }
      ],
      "source": [
        "ser[3]"
      ]
    },
    {
      "cell_type": "code",
      "execution_count": 16,
      "metadata": {
        "colab": {
          "base_uri": "https://localhost:8080/"
        },
        "id": "ewylMKtmevOe",
        "outputId": "d89416fe-7f76-4c2d-e039-c35fcfd242e2"
      },
      "outputs": [
        {
          "name": "stdout",
          "output_type": "stream",
          "text": [
            "     Name  Age  Salary Designation\n",
            "0   Arpit   30  100000    Engineer\n",
            "1  Manish   35   93000      Artist\n",
            "2     Joy   37   88000     Painter\n",
            "3   Rohit   33  120000      Singer\n",
            "4   Virat   34   94000    Designer\n",
            "5  Shreya   30   95000      Dancer\n"
          ]
        }
      ],
      "source": [
        "import pandas as pd\n",
        "\n",
        "# Creating the DataFrame\n",
        "data = {\n",
        "    \"Name\": [\"Arpit\", \"Manish\", \"Joy\", \"Rohit\", \"Virat\", \"Shreya\"],\n",
        "    \"Age\": [30, 35, 37, 33, 34, 30],\n",
        "    \"Salary\": [100000, 93000, 88000, 120000, 94000, 95000],\n",
        "    \"Designation\": [\"Engineer\", \"Artist\", \"Painter\", \"Singer\", \"Designer\", \"Dancer\"],\n",
        "}\n",
        "\n",
        "df = pd.DataFrame(data)\n",
        "\n",
        "print(df)\n"
      ]
    },
    {
      "cell_type": "markdown",
      "metadata": {
        "id": "07ynToHHs7Rg"
      },
      "source": [
        "- Q) Select name and age of those employees whose salary is less than mean salary"
      ]
    },
    {
      "cell_type": "code",
      "execution_count": 17,
      "metadata": {
        "colab": {
          "base_uri": "https://localhost:8080/",
          "height": 192
        },
        "id": "UkUNvUUbhXY5",
        "outputId": "b2cb4204-6fc6-4ceb-e094-96c1f1ed0243"
      },
      "outputs": [
        {
          "name": "stdout",
          "output_type": "stream",
          "text": [
            "98333.33333333333\n"
          ]
        },
        {
          "data": {
            "text/html": [
              "<div>\n",
              "<style scoped>\n",
              "    .dataframe tbody tr th:only-of-type {\n",
              "        vertical-align: middle;\n",
              "    }\n",
              "\n",
              "    .dataframe tbody tr th {\n",
              "        vertical-align: top;\n",
              "    }\n",
              "\n",
              "    .dataframe thead th {\n",
              "        text-align: right;\n",
              "    }\n",
              "</style>\n",
              "<table border=\"1\" class=\"dataframe\">\n",
              "  <thead>\n",
              "    <tr style=\"text-align: right;\">\n",
              "      <th></th>\n",
              "      <th>Name</th>\n",
              "      <th>Age</th>\n",
              "    </tr>\n",
              "  </thead>\n",
              "  <tbody>\n",
              "    <tr>\n",
              "      <th>1</th>\n",
              "      <td>Manish</td>\n",
              "      <td>35</td>\n",
              "    </tr>\n",
              "    <tr>\n",
              "      <th>2</th>\n",
              "      <td>Joy</td>\n",
              "      <td>37</td>\n",
              "    </tr>\n",
              "    <tr>\n",
              "      <th>4</th>\n",
              "      <td>Virat</td>\n",
              "      <td>34</td>\n",
              "    </tr>\n",
              "    <tr>\n",
              "      <th>5</th>\n",
              "      <td>Shreya</td>\n",
              "      <td>30</td>\n",
              "    </tr>\n",
              "  </tbody>\n",
              "</table>\n",
              "</div>"
            ],
            "text/plain": [
              "     Name  Age\n",
              "1  Manish   35\n",
              "2     Joy   37\n",
              "4   Virat   34\n",
              "5  Shreya   30"
            ]
          },
          "execution_count": 17,
          "metadata": {},
          "output_type": "execute_result"
        }
      ],
      "source": [
        "import numpy as np\n",
        "print(np.mean(df['Salary']))\n",
        "df.loc[df.Salary< df['Salary'].mean(), ['Name', 'Age']]"
      ]
    },
    {
      "cell_type": "code",
      "execution_count": 18,
      "metadata": {
        "colab": {
          "base_uri": "https://localhost:8080/",
          "height": 175
        },
        "id": "n7lt_9jljTUW",
        "outputId": "ac7a4692-41df-4578-99c8-fe8c5ea42cce"
      },
      "outputs": [
        {
          "data": {
            "text/html": [
              "<div>\n",
              "<style scoped>\n",
              "    .dataframe tbody tr th:only-of-type {\n",
              "        vertical-align: middle;\n",
              "    }\n",
              "\n",
              "    .dataframe tbody tr th {\n",
              "        vertical-align: top;\n",
              "    }\n",
              "\n",
              "    .dataframe thead th {\n",
              "        text-align: right;\n",
              "    }\n",
              "</style>\n",
              "<table border=\"1\" class=\"dataframe\">\n",
              "  <thead>\n",
              "    <tr style=\"text-align: right;\">\n",
              "      <th></th>\n",
              "      <th>Name</th>\n",
              "      <th>Age</th>\n",
              "    </tr>\n",
              "  </thead>\n",
              "  <tbody>\n",
              "    <tr>\n",
              "      <th>1</th>\n",
              "      <td>Manish</td>\n",
              "      <td>35</td>\n",
              "    </tr>\n",
              "    <tr>\n",
              "      <th>2</th>\n",
              "      <td>Joy</td>\n",
              "      <td>37</td>\n",
              "    </tr>\n",
              "    <tr>\n",
              "      <th>4</th>\n",
              "      <td>Virat</td>\n",
              "      <td>34</td>\n",
              "    </tr>\n",
              "    <tr>\n",
              "      <th>5</th>\n",
              "      <td>Shreya</td>\n",
              "      <td>30</td>\n",
              "    </tr>\n",
              "  </tbody>\n",
              "</table>\n",
              "</div>"
            ],
            "text/plain": [
              "     Name  Age\n",
              "1  Manish   35\n",
              "2     Joy   37\n",
              "4   Virat   34\n",
              "5  Shreya   30"
            ]
          },
          "execution_count": 18,
          "metadata": {},
          "output_type": "execute_result"
        }
      ],
      "source": [
        "df.loc[df['Salary']<np.mean(df['Salary'])][['Name', 'Age']]"
      ]
    },
    {
      "cell_type": "code",
      "execution_count": 19,
      "metadata": {
        "colab": {
          "base_uri": "https://localhost:8080/",
          "height": 175
        },
        "id": "IXPAAUAMj5uT",
        "outputId": "08f10688-c05d-4b98-93bd-ffb0796def54"
      },
      "outputs": [
        {
          "data": {
            "text/html": [
              "<div>\n",
              "<style scoped>\n",
              "    .dataframe tbody tr th:only-of-type {\n",
              "        vertical-align: middle;\n",
              "    }\n",
              "\n",
              "    .dataframe tbody tr th {\n",
              "        vertical-align: top;\n",
              "    }\n",
              "\n",
              "    .dataframe thead th {\n",
              "        text-align: right;\n",
              "    }\n",
              "</style>\n",
              "<table border=\"1\" class=\"dataframe\">\n",
              "  <thead>\n",
              "    <tr style=\"text-align: right;\">\n",
              "      <th></th>\n",
              "      <th>Name</th>\n",
              "      <th>Age</th>\n",
              "    </tr>\n",
              "  </thead>\n",
              "  <tbody>\n",
              "    <tr>\n",
              "      <th>1</th>\n",
              "      <td>Manish</td>\n",
              "      <td>35</td>\n",
              "    </tr>\n",
              "    <tr>\n",
              "      <th>2</th>\n",
              "      <td>Joy</td>\n",
              "      <td>37</td>\n",
              "    </tr>\n",
              "    <tr>\n",
              "      <th>4</th>\n",
              "      <td>Virat</td>\n",
              "      <td>34</td>\n",
              "    </tr>\n",
              "    <tr>\n",
              "      <th>5</th>\n",
              "      <td>Shreya</td>\n",
              "      <td>30</td>\n",
              "    </tr>\n",
              "  </tbody>\n",
              "</table>\n",
              "</div>"
            ],
            "text/plain": [
              "     Name  Age\n",
              "1  Manish   35\n",
              "2     Joy   37\n",
              "4   Virat   34\n",
              "5  Shreya   30"
            ]
          },
          "execution_count": 19,
          "metadata": {},
          "output_type": "execute_result"
        }
      ],
      "source": [
        "df.loc[df['Salary']<np.mean(df['Salary'])].loc[:, 'Name': 'Age']"
      ]
    },
    {
      "cell_type": "markdown",
      "metadata": {
        "id": "oiO1RFyetHSq"
      },
      "source": [
        "- Q) Name and age of employees with salary less than 1 lakh and age less than 40."
      ]
    },
    {
      "cell_type": "code",
      "execution_count": 20,
      "metadata": {
        "colab": {
          "base_uri": "https://localhost:8080/",
          "height": 175
        },
        "id": "ThZFVX3DkHzs",
        "outputId": "ba5b28a2-df75-4b13-ef0c-aea4a39ddc62"
      },
      "outputs": [
        {
          "data": {
            "text/html": [
              "<div>\n",
              "<style scoped>\n",
              "    .dataframe tbody tr th:only-of-type {\n",
              "        vertical-align: middle;\n",
              "    }\n",
              "\n",
              "    .dataframe tbody tr th {\n",
              "        vertical-align: top;\n",
              "    }\n",
              "\n",
              "    .dataframe thead th {\n",
              "        text-align: right;\n",
              "    }\n",
              "</style>\n",
              "<table border=\"1\" class=\"dataframe\">\n",
              "  <thead>\n",
              "    <tr style=\"text-align: right;\">\n",
              "      <th></th>\n",
              "      <th>Name</th>\n",
              "      <th>Age</th>\n",
              "    </tr>\n",
              "  </thead>\n",
              "  <tbody>\n",
              "    <tr>\n",
              "      <th>1</th>\n",
              "      <td>Manish</td>\n",
              "      <td>35</td>\n",
              "    </tr>\n",
              "    <tr>\n",
              "      <th>2</th>\n",
              "      <td>Joy</td>\n",
              "      <td>37</td>\n",
              "    </tr>\n",
              "    <tr>\n",
              "      <th>4</th>\n",
              "      <td>Virat</td>\n",
              "      <td>34</td>\n",
              "    </tr>\n",
              "    <tr>\n",
              "      <th>5</th>\n",
              "      <td>Shreya</td>\n",
              "      <td>30</td>\n",
              "    </tr>\n",
              "  </tbody>\n",
              "</table>\n",
              "</div>"
            ],
            "text/plain": [
              "     Name  Age\n",
              "1  Manish   35\n",
              "2     Joy   37\n",
              "4   Virat   34\n",
              "5  Shreya   30"
            ]
          },
          "execution_count": 20,
          "metadata": {},
          "output_type": "execute_result"
        }
      ],
      "source": [
        "df.loc[(df['Salary']<100000) & (df['Age']<40), ['Name', 'Age']]"
      ]
    },
    {
      "cell_type": "code",
      "execution_count": 21,
      "metadata": {
        "colab": {
          "base_uri": "https://localhost:8080/",
          "height": 175
        },
        "id": "VyVZVyWNlGz7",
        "outputId": "1b4264e3-f41a-41d6-ccd6-7f709da1d3cc"
      },
      "outputs": [
        {
          "data": {
            "text/html": [
              "<div>\n",
              "<style scoped>\n",
              "    .dataframe tbody tr th:only-of-type {\n",
              "        vertical-align: middle;\n",
              "    }\n",
              "\n",
              "    .dataframe tbody tr th {\n",
              "        vertical-align: top;\n",
              "    }\n",
              "\n",
              "    .dataframe thead th {\n",
              "        text-align: right;\n",
              "    }\n",
              "</style>\n",
              "<table border=\"1\" class=\"dataframe\">\n",
              "  <thead>\n",
              "    <tr style=\"text-align: right;\">\n",
              "      <th></th>\n",
              "      <th>Name</th>\n",
              "      <th>Salary</th>\n",
              "    </tr>\n",
              "  </thead>\n",
              "  <tbody>\n",
              "    <tr>\n",
              "      <th>1</th>\n",
              "      <td>Manish</td>\n",
              "      <td>93000</td>\n",
              "    </tr>\n",
              "    <tr>\n",
              "      <th>2</th>\n",
              "      <td>Joy</td>\n",
              "      <td>88000</td>\n",
              "    </tr>\n",
              "    <tr>\n",
              "      <th>4</th>\n",
              "      <td>Virat</td>\n",
              "      <td>94000</td>\n",
              "    </tr>\n",
              "    <tr>\n",
              "      <th>5</th>\n",
              "      <td>Shreya</td>\n",
              "      <td>95000</td>\n",
              "    </tr>\n",
              "  </tbody>\n",
              "</table>\n",
              "</div>"
            ],
            "text/plain": [
              "     Name  Salary\n",
              "1  Manish   93000\n",
              "2     Joy   88000\n",
              "4   Virat   94000\n",
              "5  Shreya   95000"
            ]
          },
          "execution_count": 21,
          "metadata": {},
          "output_type": "execute_result"
        }
      ],
      "source": [
        "df.loc[(df['Salary']<100000) & (df['Age']<40)].loc[:, ['Name', 'Salary']]"
      ]
    },
    {
      "cell_type": "markdown",
      "metadata": {
        "id": "1sic4wkUspyS"
      },
      "source": [
        "- Q) Add a new col salary_after5 which is 1.5 times original salary"
      ]
    },
    {
      "cell_type": "code",
      "execution_count": 22,
      "metadata": {
        "colab": {
          "base_uri": "https://localhost:8080/",
          "height": 237
        },
        "id": "TN2vYoillXEV",
        "outputId": "4e0e5830-0559-4213-a864-defa69d420f8"
      },
      "outputs": [
        {
          "data": {
            "text/html": [
              "<div>\n",
              "<style scoped>\n",
              "    .dataframe tbody tr th:only-of-type {\n",
              "        vertical-align: middle;\n",
              "    }\n",
              "\n",
              "    .dataframe tbody tr th {\n",
              "        vertical-align: top;\n",
              "    }\n",
              "\n",
              "    .dataframe thead th {\n",
              "        text-align: right;\n",
              "    }\n",
              "</style>\n",
              "<table border=\"1\" class=\"dataframe\">\n",
              "  <thead>\n",
              "    <tr style=\"text-align: right;\">\n",
              "      <th></th>\n",
              "      <th>Name</th>\n",
              "      <th>Age</th>\n",
              "      <th>Salary</th>\n",
              "      <th>Designation</th>\n",
              "      <th>salaray_after5</th>\n",
              "    </tr>\n",
              "  </thead>\n",
              "  <tbody>\n",
              "    <tr>\n",
              "      <th>0</th>\n",
              "      <td>Arpit</td>\n",
              "      <td>30</td>\n",
              "      <td>100000</td>\n",
              "      <td>Engineer</td>\n",
              "      <td>150000.0</td>\n",
              "    </tr>\n",
              "    <tr>\n",
              "      <th>1</th>\n",
              "      <td>Manish</td>\n",
              "      <td>35</td>\n",
              "      <td>93000</td>\n",
              "      <td>Artist</td>\n",
              "      <td>139500.0</td>\n",
              "    </tr>\n",
              "    <tr>\n",
              "      <th>2</th>\n",
              "      <td>Joy</td>\n",
              "      <td>37</td>\n",
              "      <td>88000</td>\n",
              "      <td>Painter</td>\n",
              "      <td>132000.0</td>\n",
              "    </tr>\n",
              "    <tr>\n",
              "      <th>3</th>\n",
              "      <td>Rohit</td>\n",
              "      <td>33</td>\n",
              "      <td>120000</td>\n",
              "      <td>Singer</td>\n",
              "      <td>180000.0</td>\n",
              "    </tr>\n",
              "    <tr>\n",
              "      <th>4</th>\n",
              "      <td>Virat</td>\n",
              "      <td>34</td>\n",
              "      <td>94000</td>\n",
              "      <td>Designer</td>\n",
              "      <td>141000.0</td>\n",
              "    </tr>\n",
              "    <tr>\n",
              "      <th>5</th>\n",
              "      <td>Shreya</td>\n",
              "      <td>30</td>\n",
              "      <td>95000</td>\n",
              "      <td>Dancer</td>\n",
              "      <td>142500.0</td>\n",
              "    </tr>\n",
              "  </tbody>\n",
              "</table>\n",
              "</div>"
            ],
            "text/plain": [
              "     Name  Age  Salary Designation  salaray_after5\n",
              "0   Arpit   30  100000    Engineer        150000.0\n",
              "1  Manish   35   93000      Artist        139500.0\n",
              "2     Joy   37   88000     Painter        132000.0\n",
              "3   Rohit   33  120000      Singer        180000.0\n",
              "4   Virat   34   94000    Designer        141000.0\n",
              "5  Shreya   30   95000      Dancer        142500.0"
            ]
          },
          "execution_count": 22,
          "metadata": {},
          "output_type": "execute_result"
        }
      ],
      "source": [
        "df.assign(salaray_after5=lambda x: x['Salary'] * 1.5)"
      ]
    },
    {
      "cell_type": "code",
      "execution_count": 23,
      "metadata": {
        "id": "XBEjl8WxmtfW"
      },
      "outputs": [],
      "source": [
        "df['salary_after5'] = df.apply(lambda x: x['Salary'] * 1.5, axis=1)"
      ]
    },
    {
      "cell_type": "code",
      "execution_count": 24,
      "metadata": {
        "colab": {
          "base_uri": "https://localhost:8080/",
          "height": 237
        },
        "id": "_E63ouI5m50f",
        "outputId": "aa35a9c9-459f-44a9-fd18-f8415766e0af"
      },
      "outputs": [
        {
          "data": {
            "text/html": [
              "<div>\n",
              "<style scoped>\n",
              "    .dataframe tbody tr th:only-of-type {\n",
              "        vertical-align: middle;\n",
              "    }\n",
              "\n",
              "    .dataframe tbody tr th {\n",
              "        vertical-align: top;\n",
              "    }\n",
              "\n",
              "    .dataframe thead th {\n",
              "        text-align: right;\n",
              "    }\n",
              "</style>\n",
              "<table border=\"1\" class=\"dataframe\">\n",
              "  <thead>\n",
              "    <tr style=\"text-align: right;\">\n",
              "      <th></th>\n",
              "      <th>Name</th>\n",
              "      <th>Age</th>\n",
              "      <th>Salary</th>\n",
              "      <th>Designation</th>\n",
              "      <th>salary_after5</th>\n",
              "    </tr>\n",
              "  </thead>\n",
              "  <tbody>\n",
              "    <tr>\n",
              "      <th>0</th>\n",
              "      <td>Arpit</td>\n",
              "      <td>30</td>\n",
              "      <td>100000</td>\n",
              "      <td>Engineer</td>\n",
              "      <td>150000.0</td>\n",
              "    </tr>\n",
              "    <tr>\n",
              "      <th>1</th>\n",
              "      <td>Manish</td>\n",
              "      <td>35</td>\n",
              "      <td>93000</td>\n",
              "      <td>Artist</td>\n",
              "      <td>139500.0</td>\n",
              "    </tr>\n",
              "    <tr>\n",
              "      <th>2</th>\n",
              "      <td>Joy</td>\n",
              "      <td>37</td>\n",
              "      <td>88000</td>\n",
              "      <td>Painter</td>\n",
              "      <td>132000.0</td>\n",
              "    </tr>\n",
              "    <tr>\n",
              "      <th>3</th>\n",
              "      <td>Rohit</td>\n",
              "      <td>33</td>\n",
              "      <td>120000</td>\n",
              "      <td>Singer</td>\n",
              "      <td>180000.0</td>\n",
              "    </tr>\n",
              "    <tr>\n",
              "      <th>4</th>\n",
              "      <td>Virat</td>\n",
              "      <td>34</td>\n",
              "      <td>94000</td>\n",
              "      <td>Designer</td>\n",
              "      <td>141000.0</td>\n",
              "    </tr>\n",
              "    <tr>\n",
              "      <th>5</th>\n",
              "      <td>Shreya</td>\n",
              "      <td>30</td>\n",
              "      <td>95000</td>\n",
              "      <td>Dancer</td>\n",
              "      <td>142500.0</td>\n",
              "    </tr>\n",
              "  </tbody>\n",
              "</table>\n",
              "</div>"
            ],
            "text/plain": [
              "     Name  Age  Salary Designation  salary_after5\n",
              "0   Arpit   30  100000    Engineer       150000.0\n",
              "1  Manish   35   93000      Artist       139500.0\n",
              "2     Joy   37   88000     Painter       132000.0\n",
              "3   Rohit   33  120000      Singer       180000.0\n",
              "4   Virat   34   94000    Designer       141000.0\n",
              "5  Shreya   30   95000      Dancer       142500.0"
            ]
          },
          "execution_count": 24,
          "metadata": {},
          "output_type": "execute_result"
        }
      ],
      "source": [
        "df"
      ]
    },
    {
      "cell_type": "code",
      "execution_count": 25,
      "metadata": {
        "colab": {
          "base_uri": "https://localhost:8080/",
          "height": 272
        },
        "id": "JCbweK45m6U3",
        "outputId": "f8400963-fe13-40f9-8fb3-b10b8e86efdb"
      },
      "outputs": [],
      "source": [
        "# df['Salary_after5'] = df['Salary'] * 1.5"
      ]
    },
    {
      "cell_type": "code",
      "execution_count": 26,
      "metadata": {
        "colab": {
          "base_uri": "https://localhost:8080/",
          "height": 147
        },
        "id": "axx2C1bpnIX5",
        "outputId": "50e1a405-3a4c-41b2-d5de-3a407bbfc4c7"
      },
      "outputs": [
        {
          "data": {
            "text/plain": [
              "60%     95000.0\n",
              "95%    115000.0\n",
              "Name: Salary, dtype: float64"
            ]
          },
          "execution_count": 26,
          "metadata": {},
          "output_type": "execute_result"
        }
      ],
      "source": [
        "df.describe(percentiles=[0.6, 0.95]).loc[['60%', '95%'],'Salary']"
      ]
    },
    {
      "cell_type": "code",
      "execution_count": 27,
      "metadata": {
        "colab": {
          "base_uri": "https://localhost:8080/",
          "height": 147
        },
        "id": "P2JiJVIQnaKC",
        "outputId": "e43fceb3-80c6-41a6-9338-f89196e6adad"
      },
      "outputs": [
        {
          "data": {
            "text/plain": [
              "60%     95000.0\n",
              "95%    115000.0\n",
              "Name: Salary, dtype: float64"
            ]
          },
          "execution_count": 27,
          "metadata": {},
          "output_type": "execute_result"
        }
      ],
      "source": [
        "df.describe(percentiles=[0.6, 0.95]).T.loc['Salary', ['60%', '95%']]"
      ]
    },
    {
      "cell_type": "markdown",
      "metadata": {
        "id": "46qLdRbpsYIp"
      },
      "source": [
        "- display top 2 salaries"
      ]
    },
    {
      "cell_type": "code",
      "execution_count": 28,
      "metadata": {
        "colab": {
          "base_uri": "https://localhost:8080/",
          "height": 112
        },
        "id": "kJ86rPcEoFtw",
        "outputId": "97d49000-20d4-481f-c135-f23b0d94c65f"
      },
      "outputs": [
        {
          "data": {
            "text/html": [
              "<div>\n",
              "<style scoped>\n",
              "    .dataframe tbody tr th:only-of-type {\n",
              "        vertical-align: middle;\n",
              "    }\n",
              "\n",
              "    .dataframe tbody tr th {\n",
              "        vertical-align: top;\n",
              "    }\n",
              "\n",
              "    .dataframe thead th {\n",
              "        text-align: right;\n",
              "    }\n",
              "</style>\n",
              "<table border=\"1\" class=\"dataframe\">\n",
              "  <thead>\n",
              "    <tr style=\"text-align: right;\">\n",
              "      <th></th>\n",
              "      <th>Salary</th>\n",
              "      <th>Name</th>\n",
              "    </tr>\n",
              "  </thead>\n",
              "  <tbody>\n",
              "    <tr>\n",
              "      <th>0</th>\n",
              "      <td>120000</td>\n",
              "      <td>Rohit</td>\n",
              "    </tr>\n",
              "    <tr>\n",
              "      <th>1</th>\n",
              "      <td>100000</td>\n",
              "      <td>Arpit</td>\n",
              "    </tr>\n",
              "  </tbody>\n",
              "</table>\n",
              "</div>"
            ],
            "text/plain": [
              "   Salary   Name\n",
              "0  120000  Rohit\n",
              "1  100000  Arpit"
            ]
          },
          "execution_count": 28,
          "metadata": {},
          "output_type": "execute_result"
        }
      ],
      "source": [
        "df.sort_values(by=\"Salary\", ascending=False).reset_index(drop=True).loc[:1, ['Salary', 'Name']]"
      ]
    },
    {
      "cell_type": "markdown",
      "metadata": {
        "id": "fSwCZlETsgEV"
      },
      "source": [
        "- Q6) Replace the salary to mean if value less than 100000 where designation is Engineer\n"
      ]
    },
    {
      "cell_type": "code",
      "execution_count": 29,
      "metadata": {
        "colab": {
          "base_uri": "https://localhost:8080/",
          "height": 237
        },
        "id": "Elund1zXuW8q",
        "outputId": "18311f89-f0e5-480c-87af-a53355843b4f"
      },
      "outputs": [
        {
          "data": {
            "text/html": [
              "<div>\n",
              "<style scoped>\n",
              "    .dataframe tbody tr th:only-of-type {\n",
              "        vertical-align: middle;\n",
              "    }\n",
              "\n",
              "    .dataframe tbody tr th {\n",
              "        vertical-align: top;\n",
              "    }\n",
              "\n",
              "    .dataframe thead th {\n",
              "        text-align: right;\n",
              "    }\n",
              "</style>\n",
              "<table border=\"1\" class=\"dataframe\">\n",
              "  <thead>\n",
              "    <tr style=\"text-align: right;\">\n",
              "      <th></th>\n",
              "      <th>Name</th>\n",
              "      <th>Age</th>\n",
              "      <th>Salary</th>\n",
              "      <th>Designation</th>\n",
              "      <th>salary_after5</th>\n",
              "    </tr>\n",
              "  </thead>\n",
              "  <tbody>\n",
              "    <tr>\n",
              "      <th>0</th>\n",
              "      <td>Arpit</td>\n",
              "      <td>30</td>\n",
              "      <td>100000</td>\n",
              "      <td>Engineer</td>\n",
              "      <td>150000.0</td>\n",
              "    </tr>\n",
              "    <tr>\n",
              "      <th>1</th>\n",
              "      <td>Manish</td>\n",
              "      <td>35</td>\n",
              "      <td>93000</td>\n",
              "      <td>Artist</td>\n",
              "      <td>139500.0</td>\n",
              "    </tr>\n",
              "    <tr>\n",
              "      <th>2</th>\n",
              "      <td>Joy</td>\n",
              "      <td>37</td>\n",
              "      <td>88000</td>\n",
              "      <td>Painter</td>\n",
              "      <td>132000.0</td>\n",
              "    </tr>\n",
              "    <tr>\n",
              "      <th>3</th>\n",
              "      <td>Rohit</td>\n",
              "      <td>33</td>\n",
              "      <td>120000</td>\n",
              "      <td>Singer</td>\n",
              "      <td>180000.0</td>\n",
              "    </tr>\n",
              "    <tr>\n",
              "      <th>4</th>\n",
              "      <td>Virat</td>\n",
              "      <td>34</td>\n",
              "      <td>94000</td>\n",
              "      <td>Designer</td>\n",
              "      <td>141000.0</td>\n",
              "    </tr>\n",
              "    <tr>\n",
              "      <th>5</th>\n",
              "      <td>Shreya</td>\n",
              "      <td>30</td>\n",
              "      <td>95000</td>\n",
              "      <td>Dancer</td>\n",
              "      <td>142500.0</td>\n",
              "    </tr>\n",
              "  </tbody>\n",
              "</table>\n",
              "</div>"
            ],
            "text/plain": [
              "     Name  Age  Salary Designation  salary_after5\n",
              "0   Arpit   30  100000    Engineer       150000.0\n",
              "1  Manish   35   93000      Artist       139500.0\n",
              "2     Joy   37   88000     Painter       132000.0\n",
              "3   Rohit   33  120000      Singer       180000.0\n",
              "4   Virat   34   94000    Designer       141000.0\n",
              "5  Shreya   30   95000      Dancer       142500.0"
            ]
          },
          "execution_count": 29,
          "metadata": {},
          "output_type": "execute_result"
        }
      ],
      "source": [
        "df"
      ]
    },
    {
      "cell_type": "code",
      "execution_count": 30,
      "metadata": {
        "id": "ba8EpxVYucDS"
      },
      "outputs": [],
      "source": [
        "df.drop(columns='salary_after5', inplace=True)"
      ]
    },
    {
      "cell_type": "code",
      "execution_count": 31,
      "metadata": {
        "colab": {
          "base_uri": "https://localhost:8080/"
        },
        "id": "F1rg2aYKvka0",
        "outputId": "5e7f9ec0-15cd-4867-a322-92f3b868f2be"
      },
      "outputs": [
        {
          "data": {
            "text/plain": [
              "16.25"
            ]
          },
          "execution_count": 31,
          "metadata": {},
          "output_type": "execute_result"
        }
      ],
      "source": [
        "ser.mean()"
      ]
    },
    {
      "cell_type": "code",
      "execution_count": 32,
      "metadata": {
        "id": "g9HlCtCavIbY"
      },
      "outputs": [
        {
          "ename": "SyntaxError",
          "evalue": "expected 'else' after 'if' expression (329732543.py, line 3)",
          "output_type": "error",
          "traceback": [
            "\u001b[1;36m  Cell \u001b[1;32mIn[32], line 3\u001b[1;36m\u001b[0m\n\u001b[1;33m    return col.apply(lambda x: round(col.mean(), 2) if x < col.mean() and  else x)\u001b[0m\n\u001b[1;37m                               ^\u001b[0m\n\u001b[1;31mSyntaxError\u001b[0m\u001b[1;31m:\u001b[0m expected 'else' after 'if' expression\n"
          ]
        }
      ],
      "source": [
        "def alt_sal(col):\n",
        "  if col.name == 'Salary':\n",
        "    return col.apply(lambda x: round(col.mean(), 2) if x < col.mean() and  else x)\n",
        "  return col"
      ]
    },
    {
      "cell_type": "code",
      "execution_count": 33,
      "metadata": {
        "id": "aABsOybIwEf2"
      },
      "outputs": [],
      "source": [
        "def alt_row(row):\n",
        "  if row['Salary'] < np.mean(df['Salary']) and row['Designation'] == 'Engineer':\n",
        "    return np.mean(df['Salary'])\n",
        "  return row['Salary']"
      ]
    },
    {
      "cell_type": "code",
      "execution_count": 34,
      "metadata": {
        "colab": {
          "base_uri": "https://localhost:8080/",
          "height": 272
        },
        "id": "d-nrTj3Wv820",
        "outputId": "666fb152-1580-47d4-e8d6-7468501b8a7c"
      },
      "outputs": [
        {
          "data": {
            "text/plain": [
              "0    100000\n",
              "1     93000\n",
              "2     88000\n",
              "3    120000\n",
              "4     94000\n",
              "5     95000\n",
              "dtype: int64"
            ]
          },
          "execution_count": 34,
          "metadata": {},
          "output_type": "execute_result"
        }
      ],
      "source": [
        "df.apply(alt_row, axis=1)"
      ]
    },
    {
      "cell_type": "code",
      "execution_count": 35,
      "metadata": {
        "colab": {
          "base_uri": "https://localhost:8080/",
          "height": 237
        },
        "id": "4a2_JInRufGC",
        "outputId": "04671587-bfb1-4053-fb86-1232e60578f7"
      },
      "outputs": [
        {
          "ename": "NameError",
          "evalue": "name 'alt_sal' is not defined",
          "output_type": "error",
          "traceback": [
            "\u001b[1;31m---------------------------------------------------------------------------\u001b[0m",
            "\u001b[1;31mNameError\u001b[0m                                 Traceback (most recent call last)",
            "Cell \u001b[1;32mIn[35], line 1\u001b[0m\n\u001b[1;32m----> 1\u001b[0m df\u001b[38;5;241m.\u001b[39mapply(\u001b[38;5;28;01mlambda\u001b[39;00m col: alt_sal(col) )\n",
            "File \u001b[1;32mc:\\Users\\Aayush\\anaconda3\\envs\\flask_ml\\Lib\\site-packages\\pandas\\core\\frame.py:10374\u001b[0m, in \u001b[0;36mDataFrame.apply\u001b[1;34m(self, func, axis, raw, result_type, args, by_row, engine, engine_kwargs, **kwargs)\u001b[0m\n\u001b[0;32m  10360\u001b[0m \u001b[38;5;28;01mfrom\u001b[39;00m \u001b[38;5;21;01mpandas\u001b[39;00m\u001b[38;5;21;01m.\u001b[39;00m\u001b[38;5;21;01mcore\u001b[39;00m\u001b[38;5;21;01m.\u001b[39;00m\u001b[38;5;21;01mapply\u001b[39;00m \u001b[38;5;28;01mimport\u001b[39;00m frame_apply\n\u001b[0;32m  10362\u001b[0m op \u001b[38;5;241m=\u001b[39m frame_apply(\n\u001b[0;32m  10363\u001b[0m     \u001b[38;5;28mself\u001b[39m,\n\u001b[0;32m  10364\u001b[0m     func\u001b[38;5;241m=\u001b[39mfunc,\n\u001b[1;32m   (...)\u001b[0m\n\u001b[0;32m  10372\u001b[0m     kwargs\u001b[38;5;241m=\u001b[39mkwargs,\n\u001b[0;32m  10373\u001b[0m )\n\u001b[1;32m> 10374\u001b[0m \u001b[38;5;28;01mreturn\u001b[39;00m op\u001b[38;5;241m.\u001b[39mapply()\u001b[38;5;241m.\u001b[39m__finalize__(\u001b[38;5;28mself\u001b[39m, method\u001b[38;5;241m=\u001b[39m\u001b[38;5;124m\"\u001b[39m\u001b[38;5;124mapply\u001b[39m\u001b[38;5;124m\"\u001b[39m)\n",
            "File \u001b[1;32mc:\\Users\\Aayush\\anaconda3\\envs\\flask_ml\\Lib\\site-packages\\pandas\\core\\apply.py:916\u001b[0m, in \u001b[0;36mFrameApply.apply\u001b[1;34m(self)\u001b[0m\n\u001b[0;32m    913\u001b[0m \u001b[38;5;28;01melif\u001b[39;00m \u001b[38;5;28mself\u001b[39m\u001b[38;5;241m.\u001b[39mraw:\n\u001b[0;32m    914\u001b[0m     \u001b[38;5;28;01mreturn\u001b[39;00m \u001b[38;5;28mself\u001b[39m\u001b[38;5;241m.\u001b[39mapply_raw(engine\u001b[38;5;241m=\u001b[39m\u001b[38;5;28mself\u001b[39m\u001b[38;5;241m.\u001b[39mengine, engine_kwargs\u001b[38;5;241m=\u001b[39m\u001b[38;5;28mself\u001b[39m\u001b[38;5;241m.\u001b[39mengine_kwargs)\n\u001b[1;32m--> 916\u001b[0m \u001b[38;5;28;01mreturn\u001b[39;00m \u001b[38;5;28mself\u001b[39m\u001b[38;5;241m.\u001b[39mapply_standard()\n",
            "File \u001b[1;32mc:\\Users\\Aayush\\anaconda3\\envs\\flask_ml\\Lib\\site-packages\\pandas\\core\\apply.py:1063\u001b[0m, in \u001b[0;36mFrameApply.apply_standard\u001b[1;34m(self)\u001b[0m\n\u001b[0;32m   1061\u001b[0m \u001b[38;5;28;01mdef\u001b[39;00m \u001b[38;5;21mapply_standard\u001b[39m(\u001b[38;5;28mself\u001b[39m):\n\u001b[0;32m   1062\u001b[0m     \u001b[38;5;28;01mif\u001b[39;00m \u001b[38;5;28mself\u001b[39m\u001b[38;5;241m.\u001b[39mengine \u001b[38;5;241m==\u001b[39m \u001b[38;5;124m\"\u001b[39m\u001b[38;5;124mpython\u001b[39m\u001b[38;5;124m\"\u001b[39m:\n\u001b[1;32m-> 1063\u001b[0m         results, res_index \u001b[38;5;241m=\u001b[39m \u001b[38;5;28mself\u001b[39m\u001b[38;5;241m.\u001b[39mapply_series_generator()\n\u001b[0;32m   1064\u001b[0m     \u001b[38;5;28;01melse\u001b[39;00m:\n\u001b[0;32m   1065\u001b[0m         results, res_index \u001b[38;5;241m=\u001b[39m \u001b[38;5;28mself\u001b[39m\u001b[38;5;241m.\u001b[39mapply_series_numba()\n",
            "File \u001b[1;32mc:\\Users\\Aayush\\anaconda3\\envs\\flask_ml\\Lib\\site-packages\\pandas\\core\\apply.py:1081\u001b[0m, in \u001b[0;36mFrameApply.apply_series_generator\u001b[1;34m(self)\u001b[0m\n\u001b[0;32m   1078\u001b[0m \u001b[38;5;28;01mwith\u001b[39;00m option_context(\u001b[38;5;124m\"\u001b[39m\u001b[38;5;124mmode.chained_assignment\u001b[39m\u001b[38;5;124m\"\u001b[39m, \u001b[38;5;28;01mNone\u001b[39;00m):\n\u001b[0;32m   1079\u001b[0m     \u001b[38;5;28;01mfor\u001b[39;00m i, v \u001b[38;5;129;01min\u001b[39;00m \u001b[38;5;28menumerate\u001b[39m(series_gen):\n\u001b[0;32m   1080\u001b[0m         \u001b[38;5;66;03m# ignore SettingWithCopy here in case the user mutates\u001b[39;00m\n\u001b[1;32m-> 1081\u001b[0m         results[i] \u001b[38;5;241m=\u001b[39m \u001b[38;5;28mself\u001b[39m\u001b[38;5;241m.\u001b[39mfunc(v, \u001b[38;5;241m*\u001b[39m\u001b[38;5;28mself\u001b[39m\u001b[38;5;241m.\u001b[39margs, \u001b[38;5;241m*\u001b[39m\u001b[38;5;241m*\u001b[39m\u001b[38;5;28mself\u001b[39m\u001b[38;5;241m.\u001b[39mkwargs)\n\u001b[0;32m   1082\u001b[0m         \u001b[38;5;28;01mif\u001b[39;00m \u001b[38;5;28misinstance\u001b[39m(results[i], ABCSeries):\n\u001b[0;32m   1083\u001b[0m             \u001b[38;5;66;03m# If we have a view on v, we need to make a copy because\u001b[39;00m\n\u001b[0;32m   1084\u001b[0m             \u001b[38;5;66;03m#  series_generator will swap out the underlying data\u001b[39;00m\n\u001b[0;32m   1085\u001b[0m             results[i] \u001b[38;5;241m=\u001b[39m results[i]\u001b[38;5;241m.\u001b[39mcopy(deep\u001b[38;5;241m=\u001b[39m\u001b[38;5;28;01mFalse\u001b[39;00m)\n",
            "Cell \u001b[1;32mIn[35], line 1\u001b[0m, in \u001b[0;36m<lambda>\u001b[1;34m(col)\u001b[0m\n\u001b[1;32m----> 1\u001b[0m df\u001b[38;5;241m.\u001b[39mapply(\u001b[38;5;28;01mlambda\u001b[39;00m col: alt_sal(col) )\n",
            "\u001b[1;31mNameError\u001b[0m: name 'alt_sal' is not defined"
          ]
        }
      ],
      "source": [
        "df.apply(lambda col: alt_sal(col) )"
      ]
    },
    {
      "cell_type": "code",
      "execution_count": 36,
      "metadata": {
        "colab": {
          "base_uri": "https://localhost:8080/",
          "height": 237
        },
        "id": "UwYlC5PqyAIJ",
        "outputId": "d2097251-d610-4237-dccc-d8e5758b0f1e"
      },
      "outputs": [
        {
          "data": {
            "text/html": [
              "<div>\n",
              "<style scoped>\n",
              "    .dataframe tbody tr th:only-of-type {\n",
              "        vertical-align: middle;\n",
              "    }\n",
              "\n",
              "    .dataframe tbody tr th {\n",
              "        vertical-align: top;\n",
              "    }\n",
              "\n",
              "    .dataframe thead th {\n",
              "        text-align: right;\n",
              "    }\n",
              "</style>\n",
              "<table border=\"1\" class=\"dataframe\">\n",
              "  <thead>\n",
              "    <tr style=\"text-align: right;\">\n",
              "      <th></th>\n",
              "      <th>Name</th>\n",
              "    </tr>\n",
              "  </thead>\n",
              "  <tbody>\n",
              "    <tr>\n",
              "      <th>0</th>\n",
              "      <td>Arpit</td>\n",
              "    </tr>\n",
              "    <tr>\n",
              "      <th>1</th>\n",
              "      <td>Manish</td>\n",
              "    </tr>\n",
              "    <tr>\n",
              "      <th>2</th>\n",
              "      <td>Joy</td>\n",
              "    </tr>\n",
              "    <tr>\n",
              "      <th>3</th>\n",
              "      <td>Rohit</td>\n",
              "    </tr>\n",
              "    <tr>\n",
              "      <th>4</th>\n",
              "      <td>Virat</td>\n",
              "    </tr>\n",
              "    <tr>\n",
              "      <th>5</th>\n",
              "      <td>Shreya</td>\n",
              "    </tr>\n",
              "  </tbody>\n",
              "</table>\n",
              "</div>"
            ],
            "text/plain": [
              "     Name\n",
              "0   Arpit\n",
              "1  Manish\n",
              "2     Joy\n",
              "3   Rohit\n",
              "4   Virat\n",
              "5  Shreya"
            ]
          },
          "execution_count": 36,
          "metadata": {},
          "output_type": "execute_result"
        }
      ],
      "source": [
        "df[['Name']]"
      ]
    },
    {
      "cell_type": "code",
      "execution_count": 37,
      "metadata": {
        "id": "2RMI3Hh4ve26"
      },
      "outputs": [],
      "source": [
        "df[['Name', 'Designation']] = df.apply(lambda x: x[['Name', 'Designation']].str.lower(), axis=1)"
      ]
    },
    {
      "cell_type": "code",
      "execution_count": 38,
      "metadata": {
        "colab": {
          "base_uri": "https://localhost:8080/",
          "height": 237
        },
        "id": "Y68Wg6r_zZpR",
        "outputId": "c691df31-0fff-4024-f138-7e294aa251b3"
      },
      "outputs": [
        {
          "data": {
            "text/html": [
              "<div>\n",
              "<style scoped>\n",
              "    .dataframe tbody tr th:only-of-type {\n",
              "        vertical-align: middle;\n",
              "    }\n",
              "\n",
              "    .dataframe tbody tr th {\n",
              "        vertical-align: top;\n",
              "    }\n",
              "\n",
              "    .dataframe thead th {\n",
              "        text-align: right;\n",
              "    }\n",
              "</style>\n",
              "<table border=\"1\" class=\"dataframe\">\n",
              "  <thead>\n",
              "    <tr style=\"text-align: right;\">\n",
              "      <th></th>\n",
              "      <th>Name</th>\n",
              "      <th>Designation</th>\n",
              "    </tr>\n",
              "  </thead>\n",
              "  <tbody>\n",
              "    <tr>\n",
              "      <th>0</th>\n",
              "      <td>arpit</td>\n",
              "      <td>engineer</td>\n",
              "    </tr>\n",
              "    <tr>\n",
              "      <th>1</th>\n",
              "      <td>manish</td>\n",
              "      <td>artist</td>\n",
              "    </tr>\n",
              "    <tr>\n",
              "      <th>2</th>\n",
              "      <td>joy</td>\n",
              "      <td>painter</td>\n",
              "    </tr>\n",
              "    <tr>\n",
              "      <th>3</th>\n",
              "      <td>rohit</td>\n",
              "      <td>singer</td>\n",
              "    </tr>\n",
              "    <tr>\n",
              "      <th>4</th>\n",
              "      <td>virat</td>\n",
              "      <td>designer</td>\n",
              "    </tr>\n",
              "    <tr>\n",
              "      <th>5</th>\n",
              "      <td>shreya</td>\n",
              "      <td>dancer</td>\n",
              "    </tr>\n",
              "  </tbody>\n",
              "</table>\n",
              "</div>"
            ],
            "text/plain": [
              "     Name Designation\n",
              "0   arpit    engineer\n",
              "1  manish      artist\n",
              "2     joy     painter\n",
              "3   rohit      singer\n",
              "4   virat    designer\n",
              "5  shreya      dancer"
            ]
          },
          "execution_count": 38,
          "metadata": {},
          "output_type": "execute_result"
        }
      ],
      "source": [
        " df.apply(lambda x: x[['Name', 'Designation']].str.lower(), axis=1)"
      ]
    },
    {
      "cell_type": "code",
      "execution_count": 39,
      "metadata": {
        "colab": {
          "base_uri": "https://localhost:8080/",
          "height": 237
        },
        "id": "5oQseDXbzwtl",
        "outputId": "3c8ee678-fe53-44c7-84ad-f14b8d4c4a9a"
      },
      "outputs": [
        {
          "data": {
            "text/html": [
              "<div>\n",
              "<style scoped>\n",
              "    .dataframe tbody tr th:only-of-type {\n",
              "        vertical-align: middle;\n",
              "    }\n",
              "\n",
              "    .dataframe tbody tr th {\n",
              "        vertical-align: top;\n",
              "    }\n",
              "\n",
              "    .dataframe thead th {\n",
              "        text-align: right;\n",
              "    }\n",
              "</style>\n",
              "<table border=\"1\" class=\"dataframe\">\n",
              "  <thead>\n",
              "    <tr style=\"text-align: right;\">\n",
              "      <th></th>\n",
              "      <th>Name</th>\n",
              "    </tr>\n",
              "  </thead>\n",
              "  <tbody>\n",
              "    <tr>\n",
              "      <th>0</th>\n",
              "      <td>ARPIT</td>\n",
              "    </tr>\n",
              "    <tr>\n",
              "      <th>1</th>\n",
              "      <td>MANISH</td>\n",
              "    </tr>\n",
              "    <tr>\n",
              "      <th>2</th>\n",
              "      <td>JOY</td>\n",
              "    </tr>\n",
              "    <tr>\n",
              "      <th>3</th>\n",
              "      <td>ROHIT</td>\n",
              "    </tr>\n",
              "    <tr>\n",
              "      <th>4</th>\n",
              "      <td>VIRAT</td>\n",
              "    </tr>\n",
              "    <tr>\n",
              "      <th>5</th>\n",
              "      <td>SHREYA</td>\n",
              "    </tr>\n",
              "  </tbody>\n",
              "</table>\n",
              "</div>"
            ],
            "text/plain": [
              "     Name\n",
              "0   ARPIT\n",
              "1  MANISH\n",
              "2     JOY\n",
              "3   ROHIT\n",
              "4   VIRAT\n",
              "5  SHREYA"
            ]
          },
          "execution_count": 39,
          "metadata": {},
          "output_type": "execute_result"
        }
      ],
      "source": [
        "df.apply(lambda x: x[['Name']].str.upper(), axis=1)"
      ]
    },
    {
      "cell_type": "code",
      "execution_count": 40,
      "metadata": {
        "colab": {
          "base_uri": "https://localhost:8080/",
          "height": 36
        },
        "id": "QUnPUgpkz9iU",
        "outputId": "f32bb22e-b764-499c-8728-14e008db70f8"
      },
      "outputs": [
        {
          "data": {
            "text/plain": [
              "'arpit'"
            ]
          },
          "execution_count": 40,
          "metadata": {},
          "output_type": "execute_result"
        }
      ],
      "source": [
        "df.loc[0, :]['Name']"
      ]
    },
    {
      "cell_type": "code",
      "execution_count": 41,
      "metadata": {
        "colab": {
          "base_uri": "https://localhost:8080/",
          "height": 237
        },
        "id": "o8FEcw4Gymqp",
        "outputId": "ba88eda6-5f63-4684-b75f-11ca466b7b57"
      },
      "outputs": [
        {
          "data": {
            "text/html": [
              "<div>\n",
              "<style scoped>\n",
              "    .dataframe tbody tr th:only-of-type {\n",
              "        vertical-align: middle;\n",
              "    }\n",
              "\n",
              "    .dataframe tbody tr th {\n",
              "        vertical-align: top;\n",
              "    }\n",
              "\n",
              "    .dataframe thead th {\n",
              "        text-align: right;\n",
              "    }\n",
              "</style>\n",
              "<table border=\"1\" class=\"dataframe\">\n",
              "  <thead>\n",
              "    <tr style=\"text-align: right;\">\n",
              "      <th></th>\n",
              "      <th>Name</th>\n",
              "      <th>Age</th>\n",
              "      <th>Salary</th>\n",
              "      <th>Designation</th>\n",
              "    </tr>\n",
              "  </thead>\n",
              "  <tbody>\n",
              "    <tr>\n",
              "      <th>0</th>\n",
              "      <td>arpit</td>\n",
              "      <td>30</td>\n",
              "      <td>100000</td>\n",
              "      <td>engineer</td>\n",
              "    </tr>\n",
              "    <tr>\n",
              "      <th>1</th>\n",
              "      <td>manish</td>\n",
              "      <td>35</td>\n",
              "      <td>93000</td>\n",
              "      <td>artist</td>\n",
              "    </tr>\n",
              "    <tr>\n",
              "      <th>2</th>\n",
              "      <td>joy</td>\n",
              "      <td>37</td>\n",
              "      <td>88000</td>\n",
              "      <td>painter</td>\n",
              "    </tr>\n",
              "    <tr>\n",
              "      <th>3</th>\n",
              "      <td>rohit</td>\n",
              "      <td>33</td>\n",
              "      <td>120000</td>\n",
              "      <td>singer</td>\n",
              "    </tr>\n",
              "    <tr>\n",
              "      <th>4</th>\n",
              "      <td>virat</td>\n",
              "      <td>34</td>\n",
              "      <td>94000</td>\n",
              "      <td>designer</td>\n",
              "    </tr>\n",
              "    <tr>\n",
              "      <th>5</th>\n",
              "      <td>shreya</td>\n",
              "      <td>30</td>\n",
              "      <td>95000</td>\n",
              "      <td>dancer</td>\n",
              "    </tr>\n",
              "  </tbody>\n",
              "</table>\n",
              "</div>"
            ],
            "text/plain": [
              "     Name  Age  Salary Designation\n",
              "0   arpit   30  100000    engineer\n",
              "1  manish   35   93000      artist\n",
              "2     joy   37   88000     painter\n",
              "3   rohit   33  120000      singer\n",
              "4   virat   34   94000    designer\n",
              "5  shreya   30   95000      dancer"
            ]
          },
          "execution_count": 41,
          "metadata": {},
          "output_type": "execute_result"
        }
      ],
      "source": [
        "df"
      ]
    },
    {
      "cell_type": "markdown",
      "metadata": {},
      "source": [
        "Display the mean age of people who are not engineers"
      ]
    },
    {
      "cell_type": "code",
      "execution_count": 53,
      "metadata": {},
      "outputs": [
        {
          "data": {
            "text/html": [
              "<div>\n",
              "<style scoped>\n",
              "    .dataframe tbody tr th:only-of-type {\n",
              "        vertical-align: middle;\n",
              "    }\n",
              "\n",
              "    .dataframe tbody tr th {\n",
              "        vertical-align: top;\n",
              "    }\n",
              "\n",
              "    .dataframe thead th {\n",
              "        text-align: right;\n",
              "    }\n",
              "</style>\n",
              "<table border=\"1\" class=\"dataframe\">\n",
              "  <thead>\n",
              "    <tr style=\"text-align: right;\">\n",
              "      <th></th>\n",
              "      <th>Name</th>\n",
              "      <th>Age</th>\n",
              "      <th>Salary</th>\n",
              "      <th>Designation</th>\n",
              "    </tr>\n",
              "  </thead>\n",
              "  <tbody>\n",
              "    <tr>\n",
              "      <th>1</th>\n",
              "      <td>manish</td>\n",
              "      <td>35</td>\n",
              "      <td>93000</td>\n",
              "      <td>artist</td>\n",
              "    </tr>\n",
              "    <tr>\n",
              "      <th>2</th>\n",
              "      <td>joy</td>\n",
              "      <td>37</td>\n",
              "      <td>88000</td>\n",
              "      <td>painter</td>\n",
              "    </tr>\n",
              "    <tr>\n",
              "      <th>3</th>\n",
              "      <td>rohit</td>\n",
              "      <td>33</td>\n",
              "      <td>120000</td>\n",
              "      <td>singer</td>\n",
              "    </tr>\n",
              "    <tr>\n",
              "      <th>4</th>\n",
              "      <td>virat</td>\n",
              "      <td>34</td>\n",
              "      <td>94000</td>\n",
              "      <td>designer</td>\n",
              "    </tr>\n",
              "    <tr>\n",
              "      <th>5</th>\n",
              "      <td>shreya</td>\n",
              "      <td>30</td>\n",
              "      <td>95000</td>\n",
              "      <td>dancer</td>\n",
              "    </tr>\n",
              "  </tbody>\n",
              "</table>\n",
              "</div>"
            ],
            "text/plain": [
              "     Name  Age  Salary Designation\n",
              "1  manish   35   93000      artist\n",
              "2     joy   37   88000     painter\n",
              "3   rohit   33  120000      singer\n",
              "4   virat   34   94000    designer\n",
              "5  shreya   30   95000      dancer"
            ]
          },
          "execution_count": 53,
          "metadata": {},
          "output_type": "execute_result"
        }
      ],
      "source": [
        "df.loc[(df['Designation'].str.title() != 'Engineer'), :]"
      ]
    },
    {
      "cell_type": "code",
      "execution_count": 50,
      "metadata": {},
      "outputs": [
        {
          "data": {
            "text/plain": [
              "33.166666666666664"
            ]
          },
          "execution_count": 50,
          "metadata": {},
          "output_type": "execute_result"
        }
      ],
      "source": [
        "df.loc[(df['Designation'] != 'Engineer'), 'Age'].mean()"
      ]
    },
    {
      "cell_type": "code",
      "execution_count": 57,
      "metadata": {
        "id": "iDDSYwJyzVKF"
      },
      "outputs": [],
      "source": [
        "df['pay'] = df.apply(lambda x: 'high' if x['Salary'] > 100000 else 'low', axis=1)"
      ]
    },
    {
      "cell_type": "code",
      "execution_count": 58,
      "metadata": {},
      "outputs": [
        {
          "data": {
            "text/html": [
              "<div>\n",
              "<style scoped>\n",
              "    .dataframe tbody tr th:only-of-type {\n",
              "        vertical-align: middle;\n",
              "    }\n",
              "\n",
              "    .dataframe tbody tr th {\n",
              "        vertical-align: top;\n",
              "    }\n",
              "\n",
              "    .dataframe thead th {\n",
              "        text-align: right;\n",
              "    }\n",
              "</style>\n",
              "<table border=\"1\" class=\"dataframe\">\n",
              "  <thead>\n",
              "    <tr style=\"text-align: right;\">\n",
              "      <th></th>\n",
              "      <th>Name</th>\n",
              "      <th>Age</th>\n",
              "      <th>Salary</th>\n",
              "      <th>Designation</th>\n",
              "      <th>pay</th>\n",
              "    </tr>\n",
              "  </thead>\n",
              "  <tbody>\n",
              "    <tr>\n",
              "      <th>0</th>\n",
              "      <td>arpit</td>\n",
              "      <td>30</td>\n",
              "      <td>100000</td>\n",
              "      <td>engineer</td>\n",
              "      <td>low</td>\n",
              "    </tr>\n",
              "    <tr>\n",
              "      <th>1</th>\n",
              "      <td>manish</td>\n",
              "      <td>35</td>\n",
              "      <td>93000</td>\n",
              "      <td>artist</td>\n",
              "      <td>low</td>\n",
              "    </tr>\n",
              "    <tr>\n",
              "      <th>2</th>\n",
              "      <td>joy</td>\n",
              "      <td>37</td>\n",
              "      <td>88000</td>\n",
              "      <td>painter</td>\n",
              "      <td>low</td>\n",
              "    </tr>\n",
              "    <tr>\n",
              "      <th>3</th>\n",
              "      <td>rohit</td>\n",
              "      <td>33</td>\n",
              "      <td>120000</td>\n",
              "      <td>singer</td>\n",
              "      <td>high</td>\n",
              "    </tr>\n",
              "    <tr>\n",
              "      <th>4</th>\n",
              "      <td>virat</td>\n",
              "      <td>34</td>\n",
              "      <td>94000</td>\n",
              "      <td>designer</td>\n",
              "      <td>low</td>\n",
              "    </tr>\n",
              "    <tr>\n",
              "      <th>5</th>\n",
              "      <td>shreya</td>\n",
              "      <td>30</td>\n",
              "      <td>95000</td>\n",
              "      <td>dancer</td>\n",
              "      <td>low</td>\n",
              "    </tr>\n",
              "  </tbody>\n",
              "</table>\n",
              "</div>"
            ],
            "text/plain": [
              "     Name  Age  Salary Designation   pay\n",
              "0   arpit   30  100000    engineer   low\n",
              "1  manish   35   93000      artist   low\n",
              "2     joy   37   88000     painter   low\n",
              "3   rohit   33  120000      singer  high\n",
              "4   virat   34   94000    designer   low\n",
              "5  shreya   30   95000      dancer   low"
            ]
          },
          "execution_count": 58,
          "metadata": {},
          "output_type": "execute_result"
        }
      ],
      "source": [
        "df"
      ]
    },
    {
      "cell_type": "code",
      "execution_count": 62,
      "metadata": {},
      "outputs": [
        {
          "data": {
            "text/plain": [
              "120000.0"
            ]
          },
          "execution_count": 62,
          "metadata": {},
          "output_type": "execute_result"
        }
      ],
      "source": [
        "df.loc[df['pay'] == 'high', 'Salary'].mean()"
      ]
    },
    {
      "cell_type": "code",
      "execution_count": 63,
      "metadata": {},
      "outputs": [
        {
          "data": {
            "text/plain": [
              "94000.0"
            ]
          },
          "execution_count": 63,
          "metadata": {},
          "output_type": "execute_result"
        }
      ],
      "source": [
        "df.loc[df['pay'] == 'low', 'Salary'].mean()"
      ]
    },
    {
      "cell_type": "code",
      "execution_count": 64,
      "metadata": {},
      "outputs": [
        {
          "data": {
            "text/plain": [
              "26000.0"
            ]
          },
          "execution_count": 64,
          "metadata": {},
          "output_type": "execute_result"
        }
      ],
      "source": [
        "df.loc[df['pay'] == 'high', 'Salary'].mean() - df.loc[df['pay'] == 'low', 'Salary'].mean()"
      ]
    },
    {
      "cell_type": "code",
      "execution_count": null,
      "metadata": {},
      "outputs": [],
      "source": []
    }
  ],
  "metadata": {
    "colab": {
      "provenance": []
    },
    "kernelspec": {
      "display_name": "flask_ml",
      "language": "python",
      "name": "python3"
    },
    "language_info": {
      "codemirror_mode": {
        "name": "ipython",
        "version": 3
      },
      "file_extension": ".py",
      "mimetype": "text/x-python",
      "name": "python",
      "nbconvert_exporter": "python",
      "pygments_lexer": "ipython3",
      "version": "3.11.9"
    }
  },
  "nbformat": 4,
  "nbformat_minor": 0
}
